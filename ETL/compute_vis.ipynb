{
 "cells": [
  {
   "cell_type": "code",
   "execution_count": null,
   "metadata": {},
   "outputs": [],
   "source": [
    "import scanpy as sc\n",
    "import pandas as pd\n",
    "import numpy as np\n",
    "from tqdm import tqdm\n",
    "import pickle\n",
    "import s3fs\n",
    "import os\n",
    "\n",
    "endpoint = 'https://d2h2.s3.amazonaws.com/'\n",
    "base_url = 'data'\n",
    "s3 = s3fs.S3FileSystem(anon=True, client_kwargs={'endpoint_url': endpoint})\n",
    "\n",
    "\n",
    "def compute_vis(expr_df, meta_df):\n",
    "    anndata_df = sc.AnnData(expr_df.T,dtype=np.float32)\n",
    "\n",
    "    anndata_df.var['gene_names'] = expr_df.index.values\n",
    "    anndata_df.obs['samples'] = expr_df.columns.values\n",
    "\n",
    "    anndata_df.var['var_rank'] = (-np.var(anndata_df.X, axis=0, dtype=\"float\")).argsort()\n",
    "    anndata_df = anndata_df[:, anndata_df.var.var_rank < 5000]\n",
    "\n",
    "    meta_df = meta_df[meta_df['Sample_geo_accession'].isin(expr_df.columns.values)]\n",
    "    #anndata_df.obs['meta'] = anndata_df.obs_names.map(lambda x: meta_df[meta_df['Sample_geo_accession'] == x]['Condition'].values[0]).astype('category')\n",
    "\n",
    "    sc.pp.pca(anndata_df, n_comps=2)\n",
    "\n",
    "\n",
    "    sc.pp.neighbors(anndata_df) \n",
    "\n",
    "    df_y = meta_df\n",
    "\n",
    "    df_y['pca_x'] = anndata_df.obsm['X_pca'][:,0]\n",
    "    df_y['pca_y'] = anndata_df.obsm['X_pca'][:,1]\n",
    "\n",
    "    n_samps = anndata_df.obsm['X_pca'].shape[0]\n",
    "\n",
    "    sc.tl.tsne(anndata_df, perplexity=n_samps // 2)\n",
    "    df_y['tsne_x'] = anndata_df.obsm['X_tsne'][:,0]\n",
    "    df_y['tsne_y'] = anndata_df.obsm['X_tsne'][:,1]\n",
    "\n",
    "    sc.tl.umap(anndata_df, n_components=2)\n",
    "    df_y['umap_x'] = anndata_df.obsm['X_umap'][:,0]\n",
    "    df_y['umap_y'] = anndata_df.obsm['X_umap'][:,1]\n",
    "\n",
    "    df_y.set_index('Sample_geo_accession')\n",
    "\n",
    "    df_y = df_y.round(decimals=2)\n",
    "    return df_y"
   ]
  },
  {
   "cell_type": "code",
   "execution_count": null,
   "metadata": {},
   "outputs": [],
   "source": [
    "with open(f'../app/static/data/metadata-v2.pickle', 'rb') as f:\t\n",
    "\t\tgse_metadata = pickle.load(f)"
   ]
  },
  {
   "cell_type": "code",
   "execution_count": null,
   "metadata": {},
   "outputs": [],
   "source": [
    "human_done = set(filter(lambda x: x!= '.DS_Store', map(lambda x: x.split('-')[0], os.listdir('data_coords/human'))))\n",
    "mouse_done = set(filter(lambda x: x!= '.DS_Store', map(lambda x: x.split('-')[0], os.listdir('data_coords/mouse'))))\n",
    "COORDS_computed = {'human': human_done, 'mouse': mouse_done}\n",
    "\n",
    "species_list = ['human', 'mouse']\n",
    "\n",
    "for species in species_list:\n",
    "    for gse in tqdm(gse_metadata[species]):\n",
    "             if gse not in COORDS_computed[species]:\n",
    "                metadata_file = f\"{base_url}/{species}/{gse}/{gse}_Metadata.tsv\"\n",
    "                meta_df = pd.read_csv(s3.open(metadata_file), sep='\\t', index_col=0)\n",
    "                try:\n",
    "                    expr_file = f\"{base_url}/{species}/{gse}/{gse}_Expression.tsv\"\n",
    "                    expr_df = pd.read_csv(s3.open(expr_file), sep='\\t', index_col=0)\n",
    "                    expr_df = expr_df[(expr_df < np.inf) & (expr_df >= 0)].dropna().astype(float)\n",
    "                    if len(expr_df.columns) > 2:\n",
    "                        meta_df_new = compute_vis(expr_df, meta_df.reset_index())\n",
    "                        os.makedirs(f'data_coords/{species}/{gse}', exist_ok=True)\n",
    "                        meta_df_new.to_csv(f'data_coords/{species}/{gse}/{gse}_Metadata.tsv', sep='\\t')\n",
    "                        expr_df.to_csv(f'data_coords/{species}/{gse}/{gse}_Expression.tsv', sep='\\t')\n",
    "                except Exception as e:\n",
    "                     print(gse, e)\n",
    "                     break\n",
    "               "
   ]
  }
 ],
 "metadata": {
  "kernelspec": {
   "display_name": "env",
   "language": "python",
   "name": "python3"
  },
  "language_info": {
   "codemirror_mode": {
    "name": "ipython",
    "version": 3
   },
   "file_extension": ".py",
   "mimetype": "text/x-python",
   "name": "python",
   "nbconvert_exporter": "python",
   "pygments_lexer": "ipython3",
   "version": "3.9.17"
  },
  "orig_nbformat": 4
 },
 "nbformat": 4,
 "nbformat_minor": 2
}
